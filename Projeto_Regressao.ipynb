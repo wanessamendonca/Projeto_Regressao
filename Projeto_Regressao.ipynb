{
 "cells": [
  {
   "cell_type": "markdown",
   "metadata": {},
   "source": [
    "## Importação de Bibliotecas"
   ]
  },
  {
   "cell_type": "code",
   "execution_count": 1,
   "metadata": {},
   "outputs": [],
   "source": [
    "# Bibliotecas gerais e de visualização de dados \n",
    "import pandas as pd \n",
    "import numpy as np \n",
    "import matplotlib.pyplot as plt \n",
    "import seaborn as sns \n",
    "\n",
    "import warnings \n",
    "warnings.filterwarnings('ignore')"
   ]
  },
  {
   "cell_type": "code",
   "execution_count": 2,
   "metadata": {},
   "outputs": [],
   "source": [
    "# Bibliotecas de machine-learning\n",
    "from sklearn.model_selection import train_test_split, KFold, RandomizedSearchCV\n",
    "from sklearn.pipeline import Pipeline\n",
    "from sklearn.preprocessing import OneHotEncoder, StandardScaler\n",
    "from sklearn.linear_model import LinearRegression, Lasso \n",
    "from sklearn.tree import DecisionTreeRegressor\n",
    "from sklearn.ensemble import RandomForestRegressor, AdaBoostRegressor \n",
    "from xgboost import XGBRegressor\n",
    "from sklearn.svm import SVR\n",
    "from sklearn.metrics import mean_squared_error, mean_absolute_percentage_error, r2_score, make_scorer\n",
    "from sklearn.compose import ColumnTransformer \n",
    "from sklearn.model_selection import RandomizedSearchCV\n",
    "from sklearn.inspection import permutation_importance"
   ]
  },
  {
   "cell_type": "markdown",
   "metadata": {},
   "source": [
    "## Importação de Arquivos"
   ]
  },
  {
   "cell_type": "markdown",
   "metadata": {},
   "source": [
    "Neste projeto, a seguinte divisão será usada:\n",
    "- **20% dos dados** irão compor o conjunto de **teste**;\n",
    "- **80% dos dados** irão compor o conjunto de **treino**."
   ]
  },
  {
   "cell_type": "code",
   "execution_count": 3,
   "metadata": {},
   "outputs": [
    {
     "name": "stdout",
     "output_type": "stream",
     "text": [
      "O arquivo foi importado.\n"
     ]
    }
   ],
   "source": [
    "try:\n",
    "    df = pd.read_csv('insurance.csv')\n",
    "    print('O arquivo foi importado.')\n",
    "except FileNotFoundError:\n",
    "    print('O arquivo não foi localizado.')\n",
    "except TypeError:\n",
    "    print('O nome do arquivo não foi informado.')\n",
    "except Exception as e:\n",
    "    print('A importação do arquivo gerou um erro:', e)"
   ]
  },
  {
   "cell_type": "code",
   "execution_count": 6,
   "metadata": {},
   "outputs": [],
   "source": [
    "df_train, df_test = train_test_split(df, test_size = 0.20, random_state = 42)"
   ]
  },
  {
   "cell_type": "code",
   "execution_count": 7,
   "metadata": {},
   "outputs": [],
   "source": [
    "df_train.to_csv('insurance_train.csv', index = False)"
   ]
  },
  {
   "cell_type": "code",
   "execution_count": 8,
   "metadata": {},
   "outputs": [],
   "source": [
    "df_test.to_csv('insurance_test.csv', index = False)"
   ]
  },
  {
   "cell_type": "code",
   "execution_count": 9,
   "metadata": {},
   "outputs": [],
   "source": [
    "df = pd.read_csv('insurance_train.csv')"
   ]
  },
  {
   "cell_type": "markdown",
   "metadata": {},
   "source": [
    "## Informações gerais"
   ]
  },
  {
   "cell_type": "markdown",
   "metadata": {},
   "source": [
    "Com o objetivo de evitar ao máximo possíveis enviesamentos e *data leakage*, apenas uma amostra dos dados será utilizada para visualização de informações gerais:"
   ]
  },
  {
   "cell_type": "code",
   "execution_count": 10,
   "metadata": {},
   "outputs": [
    {
     "data": {
      "text/plain": [
       "(1070, 7)"
      ]
     },
     "execution_count": 10,
     "metadata": {},
     "output_type": "execute_result"
    }
   ],
   "source": [
    "df.shape"
   ]
  },
  {
   "cell_type": "code",
   "execution_count": 11,
   "metadata": {},
   "outputs": [],
   "source": [
    "df_sample = df.sample(200, random_state = 42)"
   ]
  },
  {
   "cell_type": "code",
   "execution_count": 12,
   "metadata": {},
   "outputs": [
    {
     "data": {
      "text/html": [
       "<div>\n",
       "<style scoped>\n",
       "    .dataframe tbody tr th:only-of-type {\n",
       "        vertical-align: middle;\n",
       "    }\n",
       "\n",
       "    .dataframe tbody tr th {\n",
       "        vertical-align: top;\n",
       "    }\n",
       "\n",
       "    .dataframe thead th {\n",
       "        text-align: right;\n",
       "    }\n",
       "</style>\n",
       "<table border=\"1\" class=\"dataframe\">\n",
       "  <thead>\n",
       "    <tr style=\"text-align: right;\">\n",
       "      <th></th>\n",
       "      <th>age</th>\n",
       "      <th>sex</th>\n",
       "      <th>bmi</th>\n",
       "      <th>children</th>\n",
       "      <th>smoker</th>\n",
       "      <th>region</th>\n",
       "      <th>charges</th>\n",
       "    </tr>\n",
       "  </thead>\n",
       "  <tbody>\n",
       "    <tr>\n",
       "      <th>644</th>\n",
       "      <td>49</td>\n",
       "      <td>male</td>\n",
       "      <td>30.900</td>\n",
       "      <td>0</td>\n",
       "      <td>yes</td>\n",
       "      <td>southwest</td>\n",
       "      <td>39727.61400</td>\n",
       "    </tr>\n",
       "    <tr>\n",
       "      <th>629</th>\n",
       "      <td>38</td>\n",
       "      <td>female</td>\n",
       "      <td>40.150</td>\n",
       "      <td>0</td>\n",
       "      <td>no</td>\n",
       "      <td>southeast</td>\n",
       "      <td>5400.98050</td>\n",
       "    </tr>\n",
       "    <tr>\n",
       "      <th>70</th>\n",
       "      <td>47</td>\n",
       "      <td>male</td>\n",
       "      <td>36.080</td>\n",
       "      <td>1</td>\n",
       "      <td>yes</td>\n",
       "      <td>southeast</td>\n",
       "      <td>42211.13820</td>\n",
       "    </tr>\n",
       "    <tr>\n",
       "      <th>962</th>\n",
       "      <td>63</td>\n",
       "      <td>male</td>\n",
       "      <td>31.445</td>\n",
       "      <td>0</td>\n",
       "      <td>no</td>\n",
       "      <td>northeast</td>\n",
       "      <td>13974.45555</td>\n",
       "    </tr>\n",
       "    <tr>\n",
       "      <th>787</th>\n",
       "      <td>23</td>\n",
       "      <td>male</td>\n",
       "      <td>23.845</td>\n",
       "      <td>0</td>\n",
       "      <td>no</td>\n",
       "      <td>northeast</td>\n",
       "      <td>2395.17155</td>\n",
       "    </tr>\n",
       "  </tbody>\n",
       "</table>\n",
       "</div>"
      ],
      "text/plain": [
       "     age     sex     bmi  children smoker     region      charges\n",
       "644   49    male  30.900         0    yes  southwest  39727.61400\n",
       "629   38  female  40.150         0     no  southeast   5400.98050\n",
       "70    47    male  36.080         1    yes  southeast  42211.13820\n",
       "962   63    male  31.445         0     no  northeast  13974.45555\n",
       "787   23    male  23.845         0     no  northeast   2395.17155"
      ]
     },
     "execution_count": 12,
     "metadata": {},
     "output_type": "execute_result"
    }
   ],
   "source": [
    "df_sample.head()"
   ]
  },
  {
   "cell_type": "code",
   "execution_count": 13,
   "metadata": {},
   "outputs": [
    {
     "name": "stdout",
     "output_type": "stream",
     "text": [
      "<class 'pandas.core.frame.DataFrame'>\n",
      "Int64Index: 200 entries, 644 to 499\n",
      "Data columns (total 7 columns):\n",
      " #   Column    Non-Null Count  Dtype  \n",
      "---  ------    --------------  -----  \n",
      " 0   age       200 non-null    int64  \n",
      " 1   sex       200 non-null    object \n",
      " 2   bmi       200 non-null    float64\n",
      " 3   children  200 non-null    int64  \n",
      " 4   smoker    200 non-null    object \n",
      " 5   region    200 non-null    object \n",
      " 6   charges   200 non-null    float64\n",
      "dtypes: float64(2), int64(2), object(3)\n",
      "memory usage: 12.5+ KB\n"
     ]
    }
   ],
   "source": [
    "df_sample.info()"
   ]
  },
  {
   "cell_type": "markdown",
   "metadata": {},
   "source": [
    "## Checagem de Dados Nulos"
   ]
  },
  {
   "cell_type": "code",
   "execution_count": 14,
   "metadata": {},
   "outputs": [
    {
     "data": {
      "text/plain": [
       "age         0\n",
       "sex         0\n",
       "bmi         0\n",
       "children    0\n",
       "smoker      0\n",
       "region      0\n",
       "charges     0\n",
       "dtype: int64"
      ]
     },
     "execution_count": 14,
     "metadata": {},
     "output_type": "execute_result"
    }
   ],
   "source": [
    "df_sample.isnull().sum()"
   ]
  },
  {
   "cell_type": "markdown",
   "metadata": {},
   "source": [
    "## Análise Estatística"
   ]
  },
  {
   "cell_type": "markdown",
   "metadata": {},
   "source": [
    "### Nível de Correlação entre as Colunas Numéricas"
   ]
  },
  {
   "cell_type": "code",
   "execution_count": 15,
   "metadata": {},
   "outputs": [],
   "source": [
    "df_corr = df_sample.corr().drop(columns = 'charges')"
   ]
  },
  {
   "cell_type": "code",
   "execution_count": 16,
   "metadata": {},
   "outputs": [
    {
     "data": {
      "image/png": "[encoded data removed]",
      "text/plain": [
       "<Figure size 360x360 with 2 Axes>"
      ]
     },
     "metadata": {
      "needs_background": "light"
     },
     "output_type": "display_data"
    }
   ],
   "source": [
    "mask = np.zeros_like(df_corr.corr())\n",
    "mask[np.triu_indices_from(mask)] = True \n",
    "fig, ax = plt.subplots(figsize = (5,5))\n",
    "ax = sns.heatmap(df_corr.corr(), mask = mask, annot = True, vmin = -1, vmax = 1, center = 0, cmap = 'BuPu', square = True)"
   ]
  },
  {
   "cell_type": "markdown",
   "metadata": {},
   "source": [
    "Os níveis de correlação entre as colunas numéricas são bastante baixos."
   ]
  },
  {
   "cell_type": "markdown",
   "metadata": {},
   "source": [
    "### Contagem de Classes"
   ]
  },
  {
   "cell_type": "code",
   "execution_count": 17,
   "metadata": {},
   "outputs": [
    {
     "data": {
      "image/png": "[encoded data removed]",
      "text/plain": [
       "<Figure size 420x280 with 1 Axes>"
      ]
     },
     "metadata": {
      "needs_background": "light"
     },
     "output_type": "display_data"
    }
   ],
   "source": [
    "fig, ax = plt.subplots()\n",
    "ax.bar(df['sex'].unique(), df['sex'].value_counts(), color = ['#6247AA', '#A06CD5'])\n",
    "ax.set_axisbelow(True)\n",
    "ax.grid(True, axis = 'y')\n",
    "\n",
    "for location in ['top', 'bottom', 'left', 'right']:\n",
    "    ax.spines[location].set_visible(False)\n",
    "    \n",
    "plt.xticks(fontsize = 10, color = '#343A40')\n",
    "plt.yticks(fontsize = 10, color = '#343A40')\n",
    "ax.tick_params(color = 'white')\n",
    "\n",
    "plt.text(-0.67, 580, 'Gender', color = '#212529', fontdict = {'weight':'bold'}, size = 15)\n",
    "\n",
    "plt.gcf().set_dpi(70)\n",
    "plt.show()"
   ]
  },
  {
   "cell_type": "code",
   "execution_count": 18,
   "metadata": {},
   "outputs": [
    {
     "data": {
      "image/png": "[encoded data removed]",
      "text/plain": [
       "<Figure size 420x280 with 1 Axes>"
      ]
     },
     "metadata": {
      "needs_background": "light"
     },
     "output_type": "display_data"
    }
   ],
   "source": [
    "fig, ax = plt.subplots()\n",
    "ax.bar(df['smoker'].unique(), df['smoker'].value_counts(), color = ['#6247AA', '#A06CD5'])\n",
    "ax.set_axisbelow(True)\n",
    "ax.grid(True, axis = 'y')\n",
    "\n",
    "for location in ['top', 'bottom', 'left', 'right']:\n",
    "    ax.spines[location].set_visible(False)\n",
    "    \n",
    "plt.xticks(fontsize = 10, color = '#343A40')\n",
    "plt.yticks(fontsize = 10, color = '#343A40')\n",
    "ax.tick_params(color = 'white')\n",
    "\n",
    "plt.text(-0.67, 900, 'Smoker', color = '#212529', fontdict = {'weight':'bold'}, size = 15)\n",
    "\n",
    "plt.gcf().set_dpi(70)\n",
    "plt.show()"
   ]
  },
  {
   "cell_type": "code",
   "execution_count": 19,
   "metadata": {},
   "outputs": [
    {
     "data": {
      "image/png": "[encoded data removed]",
      "text/plain": [
       "<Figure size 420x280 with 1 Axes>"
      ]
     },
     "metadata": {
      "needs_background": "light"
     },
     "output_type": "display_data"
    }
   ],
   "source": [
    "fig, ax = plt.subplots()\n",
    "ax.bar(df['region'].unique(), df['region'].value_counts(), color = ['#822FAF', '#7251B5', '#B185DB', '#D2B7E5'])\n",
    "ax.set_axisbelow(True)\n",
    "ax.grid(True, axis = 'y')\n",
    "\n",
    "for location in ['top', 'bottom', 'left', 'right']:\n",
    "    ax.spines[location].set_visible(False)\n",
    "    \n",
    "plt.xticks(fontsize = 10, color = '#343A40')\n",
    "plt.yticks(fontsize = 10, color = '#343A40')\n",
    "ax.tick_params(color = 'white')\n",
    "\n",
    "plt.text(-0.9, 300, 'Region', color = '#212529', fontdict = {'weight':'bold'}, size = 15)\n",
    "\n",
    "plt.gcf().set_dpi(70)\n",
    "plt.show()"
   ]
  },
  {
   "cell_type": "markdown",
   "metadata": {},
   "source": [
    "Com exceção da variável `smoker`, percebe-se que a amostra é uniformemente distribuída em relação ao gênero e à localização de cada cliente. Temos um número maior de clientes auto declarados não-fumantes do que fumantes."
   ]
  },
  {
   "cell_type": "code",
   "execution_count": 20,
   "metadata": {},
   "outputs": [
    {
     "data": {
      "image/png": "[encoded data removed]",
      "text/plain": [
       "<Figure size 420x280 with 1 Axes>"
      ]
     },
     "metadata": {
      "needs_background": "light"
     },
     "output_type": "display_data"
    }
   ],
   "source": [
    "fig, ax = plt.subplots()\n",
    "ax.bar(df['children'].unique(), df['children'].value_counts(), color = ['#6247AA', '#815AC0', '#A06CD5', '#B185DB', '#C19EE0', '#DAC3E8'])\n",
    "ax.set_axisbelow(True)\n",
    "ax.grid(True, axis = 'y')\n",
    "\n",
    "for location in ['top', 'bottom', 'left', 'right']:\n",
    "    ax.spines[location].set_visible(False)\n",
    "    \n",
    "plt.xticks(fontsize = 10, color = '#343A40')\n",
    "plt.yticks(fontsize = 10, color = '#343A40')\n",
    "ax.tick_params(color = 'white')\n",
    "\n",
    "plt.text(-1.2, 460, 'Children', color = '#212529', fontdict = {'weight':'bold'}, size = 15)\n",
    "\n",
    "plt.gcf().set_dpi(70)\n",
    "plt.show()"
   ]
  },
  {
   "cell_type": "markdown",
   "metadata": {},
   "source": [
    "No que se refere ao número de filhos, a maior parte dos clientes contidos na amostra declararam ter 2 filhos."
   ]
  },
  {
   "cell_type": "markdown",
   "metadata": {},
   "source": [
    "### Distribuições para as colunas numéricas"
   ]
  },
  {
   "cell_type": "code",
   "execution_count": 21,
   "metadata": {},
   "outputs": [
    {
     "data": {
      "image/png": "[encoded data removed]",
      "text/plain": [
       "<Figure size 1296x504 with 3 Axes>"
      ]
     },
     "metadata": {
      "needs_background": "light"
     },
     "output_type": "display_data"
    }
   ],
   "source": [
    "fig, axes = plt.subplots(nrows = 1, ncols = 3, figsize = (18,7))\n",
    "index = 0\n",
    "axes = axes.flatten()\n",
    "\n",
    "for col in ['age', 'bmi','charges']:\n",
    "    sns.boxplot(y = col, data = df_sample, color = '#B185DB', ax = axes[index])\n",
    "    index += 1"
   ]
  },
  {
   "cell_type": "markdown",
   "metadata": {},
   "source": [
    "Para as variáveis que identificam a idade e o índice de massa corporal dos clientes, percebe-se uma distribuição uniforme de valores, sem a presença de outliers significativos. Já para `charges`, coluna que contém os valores dos encargos do plano de saúde, percebe-se a presença de alguns valores acima do valor máximo identificado para a amostra."
   ]
  },
  {
   "cell_type": "code",
   "execution_count": 22,
   "metadata": {},
   "outputs": [
    {
     "data": {
      "image/png": "[encoded data removed]",
      "text/plain": [
       "<Figure size 1440x360 with 3 Axes>"
      ]
     },
     "metadata": {
      "needs_background": "light"
     },
     "output_type": "display_data"
    }
   ],
   "source": [
    "fig, axes = plt.subplots(nrows = 1, ncols = 3, figsize = (20,5))\n",
    "index = 0\n",
    "axes = axes.flatten()\n",
    "\n",
    "for col in ['age', 'bmi','charges']:\n",
    "    sns.histplot(data = df_sample, x = col, kde = True, color = '#B185DB', ax = axes[index])\n",
    "    index += 1"
   ]
  },
  {
   "cell_type": "markdown",
   "metadata": {},
   "source": [
    "Para a variável idade, foi possível perceber uma distribuição mais uniforme não sendo a média, por exemplo, representativa do todo. Já para o índice de massa corporal, é possível observar uma distribuição normal dos dados, com medidas de posição como média, moda e mediana, apontando para valores bastante semelhantes entre si. \n",
    "\n",
    "Para os encargos cobrados pelo de plano de saúde, percebe-que uma distribuição bastante concentrada em valores abaixo de 15 mil dólares. Isto pode se refletir nos modelos que serão implementados adiante, uma vez que demonstra que a base de dados possui informação suficiente para prever casos em que o valor do plano de saúde está abaixo do valor mencionado, porém, possui dficuldades na estimativa de valores para casos incomuns. Para esta variável, pode ser interessante manter algumas métricas visíveis:"
   ]
  },
  {
   "cell_type": "code",
   "execution_count": 23,
   "metadata": {},
   "outputs": [
    {
     "data": {
      "text/plain": [
       "count      200.000000\n",
       "mean     14355.008731\n",
       "std      12857.583009\n",
       "min       1136.399400\n",
       "25%       5429.306950\n",
       "50%       9814.489300\n",
       "75%      19002.559258\n",
       "max      48970.247600\n",
       "Name: charges, dtype: float64"
      ]
     },
     "execution_count": 23,
     "metadata": {},
     "output_type": "execute_result"
    }
   ],
   "source": [
    "df_sample['charges'].describe()"
   ]
  },
  {
   "cell_type": "markdown",
   "metadata": {},
   "source": [
    "Algo interessante de se fazer é olhar de forma separada para os perfis dos clientes cujos encargos estão abaixo e acima de 15 mil dólares:"
   ]
  },
  {
   "cell_type": "code",
   "execution_count": 26,
   "metadata": {},
   "outputs": [],
   "source": [
    "df_sample_under15 = df_sample.loc[df_sample['charges'] <= 15000, :]\n",
    "df_sample_over15 = df_sample.loc[df_sample['charges'] > 15000, :]"
   ]
  },
  {
   "cell_type": "markdown",
   "metadata": {},
   "source": [
    "**Usuários que pagam <font color='blue'>abaixo</font> de 15 mil dólares anualmente:**"
   ]
  },
  {
   "cell_type": "code",
   "execution_count": 27,
   "metadata": {},
   "outputs": [
    {
     "data": {
      "text/html": [
       "<div>\n",
       "<style scoped>\n",
       "    .dataframe tbody tr th:only-of-type {\n",
       "        vertical-align: middle;\n",
       "    }\n",
       "\n",
       "    .dataframe tbody tr th {\n",
       "        vertical-align: top;\n",
       "    }\n",
       "\n",
       "    .dataframe thead th {\n",
       "        text-align: right;\n",
       "    }\n",
       "</style>\n",
       "<table border=\"1\" class=\"dataframe\">\n",
       "  <thead>\n",
       "    <tr style=\"text-align: right;\">\n",
       "      <th></th>\n",
       "      <th>age</th>\n",
       "      <th>bmi</th>\n",
       "      <th>children</th>\n",
       "      <th>charges</th>\n",
       "    </tr>\n",
       "  </thead>\n",
       "  <tbody>\n",
       "    <tr>\n",
       "      <th>count</th>\n",
       "      <td>141.000000</td>\n",
       "      <td>141.000000</td>\n",
       "      <td>141.000000</td>\n",
       "      <td>141.000000</td>\n",
       "    </tr>\n",
       "    <tr>\n",
       "      <th>mean</th>\n",
       "      <td>38.893617</td>\n",
       "      <td>30.423014</td>\n",
       "      <td>0.985816</td>\n",
       "      <td>7244.793019</td>\n",
       "    </tr>\n",
       "    <tr>\n",
       "      <th>std</th>\n",
       "      <td>13.446031</td>\n",
       "      <td>5.624159</td>\n",
       "      <td>1.108318</td>\n",
       "      <td>3800.550118</td>\n",
       "    </tr>\n",
       "    <tr>\n",
       "      <th>min</th>\n",
       "      <td>18.000000</td>\n",
       "      <td>15.960000</td>\n",
       "      <td>0.000000</td>\n",
       "      <td>1136.399400</td>\n",
       "    </tr>\n",
       "    <tr>\n",
       "      <th>25%</th>\n",
       "      <td>26.000000</td>\n",
       "      <td>26.600000</td>\n",
       "      <td>0.000000</td>\n",
       "      <td>4320.410850</td>\n",
       "    </tr>\n",
       "    <tr>\n",
       "      <th>50%</th>\n",
       "      <td>38.000000</td>\n",
       "      <td>30.020000</td>\n",
       "      <td>1.000000</td>\n",
       "      <td>6985.506950</td>\n",
       "    </tr>\n",
       "    <tr>\n",
       "      <th>75%</th>\n",
       "      <td>51.000000</td>\n",
       "      <td>34.200000</td>\n",
       "      <td>2.000000</td>\n",
       "      <td>10436.096000</td>\n",
       "    </tr>\n",
       "    <tr>\n",
       "      <th>max</th>\n",
       "      <td>64.000000</td>\n",
       "      <td>47.740000</td>\n",
       "      <td>5.000000</td>\n",
       "      <td>14711.743800</td>\n",
       "    </tr>\n",
       "  </tbody>\n",
       "</table>\n",
       "</div>"
      ],
      "text/plain": [
       "              age         bmi    children       charges\n",
       "count  141.000000  141.000000  141.000000    141.000000\n",
       "mean    38.893617   30.423014    0.985816   7244.793019\n",
       "std     13.446031    5.624159    1.108318   3800.550118\n",
       "min     18.000000   15.960000    0.000000   1136.399400\n",
       "25%     26.000000   26.600000    0.000000   4320.410850\n",
       "50%     38.000000   30.020000    1.000000   6985.506950\n",
       "75%     51.000000   34.200000    2.000000  10436.096000\n",
       "max     64.000000   47.740000    5.000000  14711.743800"
      ]
     },
     "execution_count": 27,
     "metadata": {},
     "output_type": "execute_result"
    }
   ],
   "source": [
    "df_sample_under15.describe()"
   ]
  },
  {
   "cell_type": "code",
   "execution_count": 31,
   "metadata": {},
   "outputs": [
    {
     "name": "stdout",
     "output_type": "stream",
     "text": [
      "Feature: sex\n",
      "female    0.531915\n",
      "male      0.468085\n",
      "Name: sex, dtype: float64\n",
      "\n",
      "Feature: smoker\n",
      "no     0.978723\n",
      "yes    0.021277\n",
      "Name: smoker, dtype: float64\n",
      "\n",
      "Feature: region\n",
      "northeast    0.283688\n",
      "northwest    0.255319\n",
      "southeast    0.241135\n",
      "southwest    0.219858\n",
      "Name: region, dtype: float64\n",
      "\n"
     ]
    }
   ],
   "source": [
    "for col in ['sex','smoker','region']:\n",
    "    print(f'Feature: {col}')\n",
    "    print(df_sample_under15[col].value_counts(normalize = True)) \n",
    "    print('')"
   ]
  },
  {
   "cell_type": "markdown",
   "metadata": {},
   "source": [
    "**Usuários que pagam <font color='red'>acima</font> de 15 mil dólares anualmente:**"
   ]
  },
  {
   "cell_type": "code",
   "execution_count": 32,
   "metadata": {},
   "outputs": [
    {
     "data": {
      "text/html": [
       "<div>\n",
       "<style scoped>\n",
       "    .dataframe tbody tr th:only-of-type {\n",
       "        vertical-align: middle;\n",
       "    }\n",
       "\n",
       "    .dataframe tbody tr th {\n",
       "        vertical-align: top;\n",
       "    }\n",
       "\n",
       "    .dataframe thead th {\n",
       "        text-align: right;\n",
       "    }\n",
       "</style>\n",
       "<table border=\"1\" class=\"dataframe\">\n",
       "  <thead>\n",
       "    <tr style=\"text-align: right;\">\n",
       "      <th></th>\n",
       "      <th>age</th>\n",
       "      <th>bmi</th>\n",
       "      <th>children</th>\n",
       "      <th>charges</th>\n",
       "    </tr>\n",
       "  </thead>\n",
       "  <tbody>\n",
       "    <tr>\n",
       "      <th>count</th>\n",
       "      <td>59.000000</td>\n",
       "      <td>59.000000</td>\n",
       "      <td>59.000000</td>\n",
       "      <td>59.000000</td>\n",
       "    </tr>\n",
       "    <tr>\n",
       "      <th>mean</th>\n",
       "      <td>41.966102</td>\n",
       "      <td>32.033559</td>\n",
       "      <td>1.288136</td>\n",
       "      <td>31347.219160</td>\n",
       "    </tr>\n",
       "    <tr>\n",
       "      <th>std</th>\n",
       "      <td>14.326207</td>\n",
       "      <td>5.634981</td>\n",
       "      <td>1.260143</td>\n",
       "      <td>10757.779096</td>\n",
       "    </tr>\n",
       "    <tr>\n",
       "      <th>min</th>\n",
       "      <td>19.000000</td>\n",
       "      <td>20.045000</td>\n",
       "      <td>0.000000</td>\n",
       "      <td>15170.069000</td>\n",
       "    </tr>\n",
       "    <tr>\n",
       "      <th>25%</th>\n",
       "      <td>29.000000</td>\n",
       "      <td>27.955000</td>\n",
       "      <td>0.000000</td>\n",
       "      <td>20253.537445</td>\n",
       "    </tr>\n",
       "    <tr>\n",
       "      <th>50%</th>\n",
       "      <td>44.000000</td>\n",
       "      <td>32.780000</td>\n",
       "      <td>1.000000</td>\n",
       "      <td>29186.482360</td>\n",
       "    </tr>\n",
       "    <tr>\n",
       "      <th>75%</th>\n",
       "      <td>53.500000</td>\n",
       "      <td>35.995000</td>\n",
       "      <td>2.000000</td>\n",
       "      <td>41047.550100</td>\n",
       "    </tr>\n",
       "    <tr>\n",
       "      <th>max</th>\n",
       "      <td>64.000000</td>\n",
       "      <td>41.895000</td>\n",
       "      <td>4.000000</td>\n",
       "      <td>48970.247600</td>\n",
       "    </tr>\n",
       "  </tbody>\n",
       "</table>\n",
       "</div>"
      ],
      "text/plain": [
       "             age        bmi   children       charges\n",
       "count  59.000000  59.000000  59.000000     59.000000\n",
       "mean   41.966102  32.033559   1.288136  31347.219160\n",
       "std    14.326207   5.634981   1.260143  10757.779096\n",
       "min    19.000000  20.045000   0.000000  15170.069000\n",
       "25%    29.000000  27.955000   0.000000  20253.537445\n",
       "50%    44.000000  32.780000   1.000000  29186.482360\n",
       "75%    53.500000  35.995000   2.000000  41047.550100\n",
       "max    64.000000  41.895000   4.000000  48970.247600"
      ]
     },
     "execution_count": 32,
     "metadata": {},
     "output_type": "execute_result"
    }
   ],
   "source": [
    "df_sample_over15.describe()"
   ]
  },
  {
   "cell_type": "code",
   "execution_count": 33,
   "metadata": {},
   "outputs": [
    {
     "name": "stdout",
     "output_type": "stream",
     "text": [
      "Feature: sex\n",
      "male      0.576271\n",
      "female    0.423729\n",
      "Name: sex, dtype: float64\n",
      "\n",
      "Feature: smoker\n",
      "yes    0.627119\n",
      "no     0.372881\n",
      "Name: smoker, dtype: float64\n",
      "\n",
      "Feature: region\n",
      "southeast    0.372881\n",
      "northwest    0.254237\n",
      "northeast    0.237288\n",
      "southwest    0.135593\n",
      "Name: region, dtype: float64\n",
      "\n"
     ]
    }
   ],
   "source": [
    "for col in ['sex','smoker','region']:\n",
    "    print(f'Feature: {col}')\n",
    "    print(df_sample_over15[col].value_counts(normalize = True)) \n",
    "    print('')"
   ]
  },
  {
   "cell_type": "markdown",
   "metadata": {},
   "source": [
    "No que se refere às variáveis categóricas (gênero, ser ou não fumante e região onde vive), não foram encontradas muitas diferenças na forma como se distribuem entre os clientes que pagam abaixo e acima de 15 mil dólares.\n",
    "\n",
    "Porém, em relação às *features* numéricas foi possível observar que os clientes com encargos acima de 15 mil dólares costumam ser um pouco mais velhos, com idade em torno de 44 anos, frente a idade de 38 anos, apresentada em média pelo grupo cujos encargos são menores.\n",
    "\n",
    "O índice de massa corporal também é levemente maior: 32 para os clientes que pagam mais caro e 30 para aqueles com menores custos, entre obesidade grau I e sobrepeso, respectivamente. O número de dependentes, fator que costuma ter muito impacto nos custos, fica entre 0 e 1 para o grupo abaixo de 15 mil dólares e 1 e 2, para aqueles clientes que costumam pagar mais."
   ]
  },
  {
   "cell_type": "markdown",
   "metadata": {},
   "source": [
    "## Implementação de Modelos"
   ]
  },
  {
   "cell_type": "markdown",
   "metadata": {},
   "source": [
    "Utilizaremos diferentes técnicas para previsão dos encargos do plano de saúde a partir das variáveis fornecidas pelos clientes. A técnica de **hold-out** será implementada, e os melhores modelos serão selecionados a partir das métricas do conjunto de validação. \n",
    "\n",
    "As métricas a serem avaliadas em cada modelo serão a **raiz do erro quadrático médio (RMSE)**, o **erro percentual absoluto médio (MAPE)** e o **coeficiente de correlação (R²)**."
   ]
  },
  {
   "cell_type": "code",
   "execution_count": 24,
   "metadata": {},
   "outputs": [],
   "source": [
    "X = df.drop(columns = 'charges')\n",
    "y = df['charges']"
   ]
  },
  {
   "cell_type": "code",
   "execution_count": 25,
   "metadata": {},
   "outputs": [],
   "source": [
    "X_train, X_val, y_train, y_val = train_test_split(X, y, test_size = 0.20, shuffle = True, random_state = 42)"
   ]
  },
  {
   "cell_type": "markdown",
   "metadata": {},
   "source": [
    "❗ Na etapa de visualização dos dados, foi possível notar a presença de variáveis categóricas, que devem ser pré-processadas antes de sua implementação no modelo. Para isto, aplicaremos a técnica de **one-hot enconding**, criando colunas para as múltiplas *labels* presentes em cada coluna categórica. "
   ]
  },
  {
   "cell_type": "markdown",
   "metadata": {},
   "source": [
    "### Regressão Linear"
   ]
  },
  {
   "cell_type": "code",
   "execution_count": 26,
   "metadata": {},
   "outputs": [],
   "source": [
    "pipeline_linear = Pipeline([('one_hot', OneHotEncoder(handle_unknown = 'ignore')),\n",
    "                            ('model', LinearRegression())])"
   ]
  },
  {
   "cell_type": "code",
   "execution_count": 27,
   "metadata": {},
   "outputs": [
    {
     "data": {
      "text/plain": [
       "Pipeline(steps=[('one_hot', OneHotEncoder(handle_unknown='ignore')),\n",
       "                ('model', LinearRegression())])"
      ]
     },
     "execution_count": 27,
     "metadata": {},
     "output_type": "execute_result"
    }
   ],
   "source": [
    "pipeline_linear.fit(X_train, y_train)"
   ]
  },
  {
   "cell_type": "code",
   "execution_count": 28,
   "metadata": {},
   "outputs": [],
   "source": [
    "y_pred_linear = pipeline_linear.predict(X_val)\n",
    "rmse_linear = mean_squared_error(y_val, y_pred_linear, squared = False)\n",
    "mape_linear = mean_absolute_percentage_error(y_val, y_pred_linear)\n",
    "r2_linear = r2_score(y_val, y_pred_linear)"
   ]
  },
  {
   "cell_type": "code",
   "execution_count": 29,
   "metadata": {},
   "outputs": [
    {
     "name": "stdout",
     "output_type": "stream",
     "text": [
      "RMSE:7387.2093678861165\n",
      "MAPE:0.6510921135094458\n",
      "R²:0.657957134909681\n"
     ]
    }
   ],
   "source": [
    "print(f'RMSE:{rmse_linear}')\n",
    "print(f'MAPE:{mape_linear}')\n",
    "print(f'R²:{r2_linear}')"
   ]
  },
  {
   "cell_type": "markdown",
   "metadata": {},
   "source": [
    "### Regressão Linear com Padronização dos Dados"
   ]
  },
  {
   "cell_type": "markdown",
   "metadata": {},
   "source": [
    "Aplicaremos uma regressão linear nos dados, porém executando uma normalização para as colunas numéricas em que a média será igual a zero e o desvio padrão igual a 1. A classe `StandardScaler` será utilizada para isso."
   ]
  },
  {
   "cell_type": "code",
   "execution_count": 30,
   "metadata": {},
   "outputs": [],
   "source": [
    "numerical_features = ['age','bmi']\n",
    "numerical_transformer = StandardScaler()\n",
    "\n",
    "categorical_features = ['sex','smoker','region']\n",
    "categorical_transformer = OneHotEncoder(sparse = True, handle_unknown = 'ignore')\n",
    "\n",
    "preprocessor = ColumnTransformer(transformers = [('numerical', numerical_transformer, numerical_features),\n",
    "                                                 ('categorical', categorical_transformer, categorical_features)])"
   ]
  },
  {
   "cell_type": "code",
   "execution_count": 31,
   "metadata": {},
   "outputs": [],
   "source": [
    "pipeline_linear_scaled = Pipeline([('preprocessor', preprocessor),\n",
    "                                   ('model', LinearRegression())])"
   ]
  },
  {
   "cell_type": "code",
   "execution_count": 32,
   "metadata": {},
   "outputs": [
    {
     "data": {
      "text/plain": [
       "Pipeline(steps=[('preprocessor',\n",
       "                 ColumnTransformer(transformers=[('numerical', StandardScaler(),\n",
       "                                                  ['age', 'bmi']),\n",
       "                                                 ('categorical',\n",
       "                                                  OneHotEncoder(handle_unknown='ignore'),\n",
       "                                                  ['sex', 'smoker',\n",
       "                                                   'region'])])),\n",
       "                ('model', LinearRegression())])"
      ]
     },
     "execution_count": 32,
     "metadata": {},
     "output_type": "execute_result"
    }
   ],
   "source": [
    "pipeline_linear_scaled.fit(X_train, y_train)"
   ]
  },
  {
   "cell_type": "code",
   "execution_count": 33,
   "metadata": {},
   "outputs": [],
   "source": [
    "y_pred_linear_scaled = pipeline_linear_scaled.predict(X_val)\n",
    "rmse_linear_scaled = mean_squared_error(y_val, y_pred_linear_scaled, squared = False)\n",
    "mape_linear_scaled = mean_absolute_percentage_error(y_val, y_pred_linear_scaled)\n",
    "r2_linear_scaled = r2_score(y_val, y_pred_linear_scaled)"
   ]
  },
  {
   "cell_type": "code",
   "execution_count": 34,
   "metadata": {},
   "outputs": [
    {
     "name": "stdout",
     "output_type": "stream",
     "text": [
      "RMSE:6639.930290384161\n",
      "MAPE:0.4130783248643915\n",
      "R²:0.7236580870827753\n"
     ]
    }
   ],
   "source": [
    "print(f'RMSE:{rmse_linear_scaled}')\n",
    "print(f'MAPE:{mape_linear_scaled}')\n",
    "print(f'R²:{r2_linear_scaled}')"
   ]
  },
  {
   "cell_type": "markdown",
   "metadata": {},
   "source": [
    "A padronização dos dados durante a implementação da regressão linear teve um efeito positivo sobre as métricas do modelo. Esta normalização pode ter gerado uma facilidade de entendimento para o algoritmo, que teve que lidar apenas com pontos reduzidos a um intervalo conhecido."
   ]
  },
  {
   "cell_type": "markdown",
   "metadata": {},
   "source": [
    "### Regressão Linear com Lasso"
   ]
  },
  {
   "cell_type": "markdown",
   "metadata": {},
   "source": [
    "Aplicaremos uma regressão linear Lasso aos dados, que visa reduzir a dependência das predições geradas em relação às *features* introduzindo para isto um *bias* ($\\alpha$) à equação de regressão. Quanto maior o valor desta nova parcela, mais os coeficientes para cada variável se tornam mais próximos de zero. "
   ]
  },
  {
   "cell_type": "code",
   "execution_count": 35,
   "metadata": {},
   "outputs": [
    {
     "data": {
      "text/html": [
       "<div>\n",
       "<style scoped>\n",
       "    .dataframe tbody tr th:only-of-type {\n",
       "        vertical-align: middle;\n",
       "    }\n",
       "\n",
       "    .dataframe tbody tr th {\n",
       "        vertical-align: top;\n",
       "    }\n",
       "\n",
       "    .dataframe thead th {\n",
       "        text-align: right;\n",
       "    }\n",
       "</style>\n",
       "<table border=\"1\" class=\"dataframe\">\n",
       "  <thead>\n",
       "    <tr style=\"text-align: right;\">\n",
       "      <th></th>\n",
       "      <th>alpha</th>\n",
       "      <th>RMSE</th>\n",
       "      <th>MAPE</th>\n",
       "      <th>R²</th>\n",
       "    </tr>\n",
       "  </thead>\n",
       "  <tbody>\n",
       "    <tr>\n",
       "      <th>0</th>\n",
       "      <td>1</td>\n",
       "      <td>6639.930696</td>\n",
       "      <td>0.413055</td>\n",
       "      <td>0.723658</td>\n",
       "    </tr>\n",
       "    <tr>\n",
       "      <th>1</th>\n",
       "      <td>10</td>\n",
       "      <td>6640.159402</td>\n",
       "      <td>0.412846</td>\n",
       "      <td>0.723639</td>\n",
       "    </tr>\n",
       "    <tr>\n",
       "      <th>2</th>\n",
       "      <td>100</td>\n",
       "      <td>6662.417157</td>\n",
       "      <td>0.417869</td>\n",
       "      <td>0.721783</td>\n",
       "    </tr>\n",
       "    <tr>\n",
       "      <th>3</th>\n",
       "      <td>1000</td>\n",
       "      <td>7385.270326</td>\n",
       "      <td>0.620771</td>\n",
       "      <td>0.658137</td>\n",
       "    </tr>\n",
       "  </tbody>\n",
       "</table>\n",
       "</div>"
      ],
      "text/plain": [
       "   alpha         RMSE      MAPE        R²\n",
       "0      1  6639.930696  0.413055  0.723658\n",
       "1     10  6640.159402  0.412846  0.723639\n",
       "2    100  6662.417157  0.417869  0.721783\n",
       "3   1000  7385.270326  0.620771  0.658137"
      ]
     },
     "metadata": {},
     "output_type": "display_data"
    }
   ],
   "source": [
    "alpha = [1, 10, 100, 1000]\n",
    "rmse_list = []\n",
    "mape_list = []\n",
    "r2_list = []\n",
    "\n",
    "for l in alpha:\n",
    "    \n",
    "    pipeline_linear_lasso = Pipeline([('preprocessor', preprocessor),\n",
    "                                      ('model', Lasso(alpha = l))]) \n",
    "    \n",
    "    pipeline_linear_lasso.fit(X_train, y_train)\n",
    "    \n",
    "    y_pred_linear_lasso = pipeline_linear_lasso.predict(X_val)\n",
    "    rmse_linear_lasso = mean_squared_error(y_val, y_pred_linear_lasso, squared = False)\n",
    "    mape_linear_lasso = mean_absolute_percentage_error(y_val, y_pred_linear_lasso)\n",
    "    r2_linear_lasso = r2_score(y_val, y_pred_linear_lasso)\n",
    "    \n",
    "    rmse_list.append(rmse_linear_lasso)\n",
    "    mape_list.append(mape_linear_lasso)    \n",
    "    r2_list.append(r2_linear_lasso)\n",
    "    \n",
    "dict_results = {'alpha': alpha,\n",
    "                'RMSE': rmse_list,\n",
    "                'MAPE': mape_list,\n",
    "                'R²': r2_list}\n",
    "\n",
    "display(pd.DataFrame(dict_results))"
   ]
  },
  {
   "cell_type": "markdown",
   "metadata": {},
   "source": [
    "A inserção de menor dependência em relação às *features* não teve um efeito muito positivo sobre as métricas do modelo. A melhor configuração foi justamente aquela que não permitiu uma redução tão extrema dos coeficientes de cada variável, com $\\alpha$ igual a 1."
   ]
  },
  {
   "cell_type": "markdown",
   "metadata": {},
   "source": [
    "### Árvore de Decisão"
   ]
  },
  {
   "cell_type": "markdown",
   "metadata": {},
   "source": [
    "Para o modelo de árvore decisão serão testados diferentes configurações de profundidade para o estimador, variando entre 1 e 40."
   ]
  },
  {
   "cell_type": "code",
   "execution_count": 36,
   "metadata": {},
   "outputs": [
    {
     "data": {
      "text/html": [
       "<div>\n",
       "<style scoped>\n",
       "    .dataframe tbody tr th:only-of-type {\n",
       "        vertical-align: middle;\n",
       "    }\n",
       "\n",
       "    .dataframe tbody tr th {\n",
       "        vertical-align: top;\n",
       "    }\n",
       "\n",
       "    .dataframe thead th {\n",
       "        text-align: right;\n",
       "    }\n",
       "</style>\n",
       "<table border=\"1\" class=\"dataframe\">\n",
       "  <thead>\n",
       "    <tr style=\"text-align: right;\">\n",
       "      <th></th>\n",
       "      <th>depths</th>\n",
       "      <th>RMSE</th>\n",
       "      <th>MAPE</th>\n",
       "      <th>R²</th>\n",
       "    </tr>\n",
       "  </thead>\n",
       "  <tbody>\n",
       "    <tr>\n",
       "      <th>0</th>\n",
       "      <td>1</td>\n",
       "      <td>8030.821962</td>\n",
       "      <td>0.819011</td>\n",
       "      <td>0.595760</td>\n",
       "    </tr>\n",
       "    <tr>\n",
       "      <th>1</th>\n",
       "      <td>3</td>\n",
       "      <td>7956.901765</td>\n",
       "      <td>0.714872</td>\n",
       "      <td>0.603167</td>\n",
       "    </tr>\n",
       "    <tr>\n",
       "      <th>2</th>\n",
       "      <td>5</td>\n",
       "      <td>8048.328765</td>\n",
       "      <td>0.688778</td>\n",
       "      <td>0.593995</td>\n",
       "    </tr>\n",
       "    <tr>\n",
       "      <th>3</th>\n",
       "      <td>10</td>\n",
       "      <td>8130.280635</td>\n",
       "      <td>0.619274</td>\n",
       "      <td>0.585685</td>\n",
       "    </tr>\n",
       "    <tr>\n",
       "      <th>4</th>\n",
       "      <td>15</td>\n",
       "      <td>8368.271680</td>\n",
       "      <td>0.577621</td>\n",
       "      <td>0.561074</td>\n",
       "    </tr>\n",
       "    <tr>\n",
       "      <th>5</th>\n",
       "      <td>20</td>\n",
       "      <td>8705.931014</td>\n",
       "      <td>0.525968</td>\n",
       "      <td>0.524938</td>\n",
       "    </tr>\n",
       "    <tr>\n",
       "      <th>6</th>\n",
       "      <td>25</td>\n",
       "      <td>8626.826172</td>\n",
       "      <td>0.482498</td>\n",
       "      <td>0.533532</td>\n",
       "    </tr>\n",
       "    <tr>\n",
       "      <th>7</th>\n",
       "      <td>30</td>\n",
       "      <td>9121.769035</td>\n",
       "      <td>0.469079</td>\n",
       "      <td>0.478472</td>\n",
       "    </tr>\n",
       "    <tr>\n",
       "      <th>8</th>\n",
       "      <td>35</td>\n",
       "      <td>8970.583620</td>\n",
       "      <td>0.409118</td>\n",
       "      <td>0.495616</td>\n",
       "    </tr>\n",
       "    <tr>\n",
       "      <th>9</th>\n",
       "      <td>40</td>\n",
       "      <td>8925.837913</td>\n",
       "      <td>0.403812</td>\n",
       "      <td>0.500635</td>\n",
       "    </tr>\n",
       "  </tbody>\n",
       "</table>\n",
       "</div>"
      ],
      "text/plain": [
       "   depths         RMSE      MAPE        R²\n",
       "0       1  8030.821962  0.819011  0.595760\n",
       "1       3  7956.901765  0.714872  0.603167\n",
       "2       5  8048.328765  0.688778  0.593995\n",
       "3      10  8130.280635  0.619274  0.585685\n",
       "4      15  8368.271680  0.577621  0.561074\n",
       "5      20  8705.931014  0.525968  0.524938\n",
       "6      25  8626.826172  0.482498  0.533532\n",
       "7      30  9121.769035  0.469079  0.478472\n",
       "8      35  8970.583620  0.409118  0.495616\n",
       "9      40  8925.837913  0.403812  0.500635"
      ]
     },
     "metadata": {},
     "output_type": "display_data"
    }
   ],
   "source": [
    "depths = [i for i in range(5,41,5)]\n",
    "depths = [1,3] + depths\n",
    "rmse_list = []\n",
    "mape_list = []\n",
    "r2_list = []\n",
    "\n",
    "for depth in depths:\n",
    "    \n",
    "    pipeline_tree = Pipeline([('one_hot', OneHotEncoder(sparse = True, handle_unknown = 'ignore')),\n",
    "                              ('model', DecisionTreeRegressor(max_depth = depth, random_state = 42))])\n",
    "    \n",
    "    pipeline_tree.fit(X_train, y_train)\n",
    "    \n",
    "    y_pred_tree = pipeline_tree.predict(X_val)\n",
    "    rmse_tree = mean_squared_error(y_val, y_pred_tree, squared = False)\n",
    "    mape_tree = mean_absolute_percentage_error(y_val, y_pred_tree)\n",
    "    r2_tree = r2_score(y_val, y_pred_tree)\n",
    "    \n",
    "    rmse_list.append(rmse_tree)\n",
    "    mape_list.append(mape_tree)\n",
    "    r2_list.append(r2_tree)\n",
    "    \n",
    "dict_results = {'depths': depths,\n",
    "                'RMSE': rmse_list,\n",
    "                'MAPE': mape_list,\n",
    "                'R²': r2_list}\n",
    "\n",
    "display(pd.DataFrame(dict_results)) "
   ]
  },
  {
   "cell_type": "markdown",
   "metadata": {},
   "source": [
    "A configuração com uma árvore de decisão cuja profundidade vai até 3 níveis foi a que apresentou as melhores métricas para previsão."
   ]
  },
  {
   "cell_type": "markdown",
   "metadata": {},
   "source": [
    "### Random Forest"
   ]
  },
  {
   "cell_type": "markdown",
   "metadata": {},
   "source": [
    "Para o modelo de floresta aletória serão testadas configurações com diferentes números de estimadores no intervalo de 1 a 120:"
   ]
  },
  {
   "cell_type": "code",
   "execution_count": 37,
   "metadata": {},
   "outputs": [
    {
     "data": {
      "text/html": [
       "<div>\n",
       "<style scoped>\n",
       "    .dataframe tbody tr th:only-of-type {\n",
       "        vertical-align: middle;\n",
       "    }\n",
       "\n",
       "    .dataframe tbody tr th {\n",
       "        vertical-align: top;\n",
       "    }\n",
       "\n",
       "    .dataframe thead th {\n",
       "        text-align: right;\n",
       "    }\n",
       "</style>\n",
       "<table border=\"1\" class=\"dataframe\">\n",
       "  <thead>\n",
       "    <tr style=\"text-align: right;\">\n",
       "      <th></th>\n",
       "      <th>n_estimators</th>\n",
       "      <th>RMSE</th>\n",
       "      <th>MAPE</th>\n",
       "      <th>R²</th>\n",
       "    </tr>\n",
       "  </thead>\n",
       "  <tbody>\n",
       "    <tr>\n",
       "      <th>0</th>\n",
       "      <td>1</td>\n",
       "      <td>8897.975744</td>\n",
       "      <td>0.345811</td>\n",
       "      <td>0.503748</td>\n",
       "    </tr>\n",
       "    <tr>\n",
       "      <th>1</th>\n",
       "      <td>3</td>\n",
       "      <td>8071.919923</td>\n",
       "      <td>0.320963</td>\n",
       "      <td>0.591612</td>\n",
       "    </tr>\n",
       "    <tr>\n",
       "      <th>2</th>\n",
       "      <td>5</td>\n",
       "      <td>7848.853870</td>\n",
       "      <td>0.287488</td>\n",
       "      <td>0.613871</td>\n",
       "    </tr>\n",
       "    <tr>\n",
       "      <th>3</th>\n",
       "      <td>10</td>\n",
       "      <td>7717.044166</td>\n",
       "      <td>0.283088</td>\n",
       "      <td>0.626731</td>\n",
       "    </tr>\n",
       "    <tr>\n",
       "      <th>4</th>\n",
       "      <td>20</td>\n",
       "      <td>7558.301887</td>\n",
       "      <td>0.266610</td>\n",
       "      <td>0.641930</td>\n",
       "    </tr>\n",
       "    <tr>\n",
       "      <th>5</th>\n",
       "      <td>30</td>\n",
       "      <td>7604.365127</td>\n",
       "      <td>0.259021</td>\n",
       "      <td>0.637552</td>\n",
       "    </tr>\n",
       "    <tr>\n",
       "      <th>6</th>\n",
       "      <td>40</td>\n",
       "      <td>7699.016257</td>\n",
       "      <td>0.259446</td>\n",
       "      <td>0.628473</td>\n",
       "    </tr>\n",
       "    <tr>\n",
       "      <th>7</th>\n",
       "      <td>50</td>\n",
       "      <td>7656.667491</td>\n",
       "      <td>0.257624</td>\n",
       "      <td>0.632549</td>\n",
       "    </tr>\n",
       "    <tr>\n",
       "      <th>8</th>\n",
       "      <td>60</td>\n",
       "      <td>7593.143496</td>\n",
       "      <td>0.257417</td>\n",
       "      <td>0.638621</td>\n",
       "    </tr>\n",
       "    <tr>\n",
       "      <th>9</th>\n",
       "      <td>70</td>\n",
       "      <td>7573.341476</td>\n",
       "      <td>0.257001</td>\n",
       "      <td>0.640503</td>\n",
       "    </tr>\n",
       "    <tr>\n",
       "      <th>10</th>\n",
       "      <td>80</td>\n",
       "      <td>7537.653345</td>\n",
       "      <td>0.256920</td>\n",
       "      <td>0.643884</td>\n",
       "    </tr>\n",
       "    <tr>\n",
       "      <th>11</th>\n",
       "      <td>90</td>\n",
       "      <td>7520.795592</td>\n",
       "      <td>0.252932</td>\n",
       "      <td>0.645475</td>\n",
       "    </tr>\n",
       "    <tr>\n",
       "      <th>12</th>\n",
       "      <td>100</td>\n",
       "      <td>7482.759068</td>\n",
       "      <td>0.249614</td>\n",
       "      <td>0.649052</td>\n",
       "    </tr>\n",
       "    <tr>\n",
       "      <th>13</th>\n",
       "      <td>110</td>\n",
       "      <td>7484.394574</td>\n",
       "      <td>0.248825</td>\n",
       "      <td>0.648898</td>\n",
       "    </tr>\n",
       "  </tbody>\n",
       "</table>\n",
       "</div>"
      ],
      "text/plain": [
       "    n_estimators         RMSE      MAPE        R²\n",
       "0              1  8897.975744  0.345811  0.503748\n",
       "1              3  8071.919923  0.320963  0.591612\n",
       "2              5  7848.853870  0.287488  0.613871\n",
       "3             10  7717.044166  0.283088  0.626731\n",
       "4             20  7558.301887  0.266610  0.641930\n",
       "5             30  7604.365127  0.259021  0.637552\n",
       "6             40  7699.016257  0.259446  0.628473\n",
       "7             50  7656.667491  0.257624  0.632549\n",
       "8             60  7593.143496  0.257417  0.638621\n",
       "9             70  7573.341476  0.257001  0.640503\n",
       "10            80  7537.653345  0.256920  0.643884\n",
       "11            90  7520.795592  0.252932  0.645475\n",
       "12           100  7482.759068  0.249614  0.649052\n",
       "13           110  7484.394574  0.248825  0.648898"
      ]
     },
     "metadata": {},
     "output_type": "display_data"
    }
   ],
   "source": [
    "trees = [i for i in range(10, 120, 10)]\n",
    "trees = [1, 3, 5] + trees\n",
    "rmse_list = []\n",
    "mape_list = []\n",
    "r2_list = []\n",
    "\n",
    "for tree in trees:\n",
    "    \n",
    "    pipeline_random = Pipeline([('one_hot', OneHotEncoder(sparse = True, handle_unknown = 'ignore')),\n",
    "                                ('model', RandomForestRegressor(n_estimators = tree, random_state = 42))])\n",
    "    \n",
    "    pipeline_random.fit(X_train, y_train)\n",
    "    \n",
    "    y_pred_random = pipeline_random.predict(X_val)\n",
    "    rmse_random = mean_squared_error(y_val, y_pred_random, squared = False)\n",
    "    mape_random = mean_absolute_percentage_error(y_val, y_pred_random)\n",
    "    r2_random = r2_score(y_val, y_pred_random)\n",
    "    \n",
    "    rmse_list.append(rmse_random)\n",
    "    mape_list.append(mape_random)\n",
    "    r2_list.append(r2_random)\n",
    "    \n",
    "dict_results = {'n_estimators': trees,\n",
    "                'RMSE': rmse_list,\n",
    "                'MAPE': mape_list,\n",
    "                'R²': r2_list}\n",
    "\n",
    "display(pd.DataFrame(dict_results))"
   ]
  },
  {
   "cell_type": "markdown",
   "metadata": {},
   "source": [
    "A configuração com 20 árvores foi a que apresentou as melhores métricas dentre todos os resultados obtidos utilizando-se o algoritmo de floresta aleatória."
   ]
  },
  {
   "cell_type": "markdown",
   "metadata": {},
   "source": [
    "### XGBoost"
   ]
  },
  {
   "cell_type": "markdown",
   "metadata": {},
   "source": [
    "Para o modelo de XGBoost, testeremos diferentes valores de taxas de aprendizado que permitem ao modelo encontrar o mínimo local da função de custo a cada iteração."
   ]
  },
  {
   "cell_type": "code",
   "execution_count": 38,
   "metadata": {},
   "outputs": [
    {
     "data": {
      "text/html": [
       "<div>\n",
       "<style scoped>\n",
       "    .dataframe tbody tr th:only-of-type {\n",
       "        vertical-align: middle;\n",
       "    }\n",
       "\n",
       "    .dataframe tbody tr th {\n",
       "        vertical-align: top;\n",
       "    }\n",
       "\n",
       "    .dataframe thead th {\n",
       "        text-align: right;\n",
       "    }\n",
       "</style>\n",
       "<table border=\"1\" class=\"dataframe\">\n",
       "  <thead>\n",
       "    <tr style=\"text-align: right;\">\n",
       "      <th></th>\n",
       "      <th>learning_rate</th>\n",
       "      <th>RMSE</th>\n",
       "      <th>MAPE</th>\n",
       "      <th>R²</th>\n",
       "    </tr>\n",
       "  </thead>\n",
       "  <tbody>\n",
       "    <tr>\n",
       "      <th>0</th>\n",
       "      <td>0.1</td>\n",
       "      <td>13091.923855</td>\n",
       "      <td>0.526470</td>\n",
       "      <td>-0.074303</td>\n",
       "    </tr>\n",
       "    <tr>\n",
       "      <th>1</th>\n",
       "      <td>0.3</td>\n",
       "      <td>8555.803188</td>\n",
       "      <td>0.511675</td>\n",
       "      <td>0.541181</td>\n",
       "    </tr>\n",
       "    <tr>\n",
       "      <th>2</th>\n",
       "      <td>1.0</td>\n",
       "      <td>7698.447161</td>\n",
       "      <td>0.509972</td>\n",
       "      <td>0.628528</td>\n",
       "    </tr>\n",
       "    <tr>\n",
       "      <th>3</th>\n",
       "      <td>1.5</td>\n",
       "      <td>8208.600802</td>\n",
       "      <td>0.518852</td>\n",
       "      <td>0.577664</td>\n",
       "    </tr>\n",
       "  </tbody>\n",
       "</table>\n",
       "</div>"
      ],
      "text/plain": [
       "   learning_rate          RMSE      MAPE        R²\n",
       "0            0.1  13091.923855  0.526470 -0.074303\n",
       "1            0.3   8555.803188  0.511675  0.541181\n",
       "2            1.0   7698.447161  0.509972  0.628528\n",
       "3            1.5   8208.600802  0.518852  0.577664"
      ]
     },
     "metadata": {},
     "output_type": "display_data"
    }
   ],
   "source": [
    "learning_rates = [0.1, 0.3, 1, 1.5]\n",
    "rmse_list = []\n",
    "mape_list = []\n",
    "r2_list = []\n",
    "\n",
    "for l in learning_rates:\n",
    "\n",
    "    pipeline_xgboost = Pipeline([('one_hot', OneHotEncoder(sparse = True, handle_unknown = 'ignore')), \n",
    "                                 ('model', XGBRegressor(n_estimators = 5, eta = l, random_state = 42))])\n",
    "                                 \n",
    "    pipeline_xgboost.fit(X_train, y_train)\n",
    "                                 \n",
    "    y_pred_xgboost = pipeline_xgboost.predict(X_val)\n",
    "    rmse_xgboost = mean_squared_error(y_val, y_pred_xgboost, squared = False)\n",
    "    mape_xgboost = mean_absolute_percentage_error(y_val, y_pred_xgboost)\n",
    "    r2_xgboost = r2_score(y_val, y_pred_xgboost)\n",
    "    \n",
    "    rmse_list.append(rmse_xgboost)\n",
    "    mape_list.append(mape_xgboost)\n",
    "    r2_list.append(r2_xgboost)\n",
    "                                 \n",
    "dict_results = {'learning_rate': learning_rates,\n",
    "                'RMSE': rmse_list,\n",
    "                'MAPE': mape_list,\n",
    "                'R²': r2_list}\n",
    "\n",
    "display(pd.DataFrame(dict_results))"
   ]
  },
  {
   "cell_type": "markdown",
   "metadata": {},
   "source": [
    "A configuração com taxa de aprendizado igual a 1 foi a que apresentou as melhores métricas para previsão de valores."
   ]
  },
  {
   "cell_type": "markdown",
   "metadata": {},
   "source": [
    "### SVR"
   ]
  },
  {
   "cell_type": "markdown",
   "metadata": {},
   "source": [
    "Para modelos do tipo Máquina de Vetor de Suporte, cuja formulação matemática está baseada em distâncias, a normalização das variáveis numéricas deve voltar a ser utilizada. Diferentes configurações para o *kernel trick* serão implementadas:"
   ]
  },
  {
   "cell_type": "markdown",
   "metadata": {},
   "source": [
    "#### Base Linear"
   ]
  },
  {
   "cell_type": "code",
   "execution_count": 39,
   "metadata": {},
   "outputs": [],
   "source": [
    "pipeline_svr = Pipeline([('preprocessor', preprocessor),\n",
    "                         ('model', SVR(kernel = 'linear'))])"
   ]
  },
  {
   "cell_type": "code",
   "execution_count": 40,
   "metadata": {},
   "outputs": [
    {
     "data": {
      "text/plain": [
       "Pipeline(steps=[('preprocessor',\n",
       "                 ColumnTransformer(transformers=[('numerical', StandardScaler(),\n",
       "                                                  ['age', 'bmi']),\n",
       "                                                 ('categorical',\n",
       "                                                  OneHotEncoder(handle_unknown='ignore'),\n",
       "                                                  ['sex', 'smoker',\n",
       "                                                   'region'])])),\n",
       "                ('model', SVR(kernel='linear'))])"
      ]
     },
     "execution_count": 40,
     "metadata": {},
     "output_type": "execute_result"
    }
   ],
   "source": [
    "pipeline_svr.fit(X_train, y_train)"
   ]
  },
  {
   "cell_type": "code",
   "execution_count": 41,
   "metadata": {},
   "outputs": [],
   "source": [
    "y_pred_svr = pipeline_svr.predict(X_val)\n",
    "rmse_svr = mean_squared_error(y_val, y_pred_svr, squared = False)\n",
    "mape_svr = mean_absolute_percentage_error(y_val, y_pred_svr)\n",
    "r2_svr = r2_score(y_val, y_pred_svr)"
   ]
  },
  {
   "cell_type": "code",
   "execution_count": 42,
   "metadata": {},
   "outputs": [
    {
     "name": "stdout",
     "output_type": "stream",
     "text": [
      "RMSE:13223.01227012251\n",
      "MAPE:0.9029304148239732\n",
      "R²: -0.09592421143518015\n"
     ]
    }
   ],
   "source": [
    "print(f'RMSE:{rmse_svr}')\n",
    "print(f'MAPE:{mape_svr}')\n",
    "print(f'R²: {r2_svr}')"
   ]
  },
  {
   "cell_type": "markdown",
   "metadata": {},
   "source": [
    "#### Base Polinomial de Grau 2"
   ]
  },
  {
   "cell_type": "code",
   "execution_count": 43,
   "metadata": {},
   "outputs": [],
   "source": [
    "pipeline_poli2 = Pipeline([('preprocessor', preprocessor),\n",
    "                          ('model', SVR(kernel = 'poly', degree = 2))])"
   ]
  },
  {
   "cell_type": "code",
   "execution_count": 44,
   "metadata": {},
   "outputs": [
    {
     "data": {
      "text/plain": [
       "Pipeline(steps=[('preprocessor',\n",
       "                 ColumnTransformer(transformers=[('numerical', StandardScaler(),\n",
       "                                                  ['age', 'bmi']),\n",
       "                                                 ('categorical',\n",
       "                                                  OneHotEncoder(handle_unknown='ignore'),\n",
       "                                                  ['sex', 'smoker',\n",
       "                                                   'region'])])),\n",
       "                ('model', SVR(degree=2, kernel='poly'))])"
      ]
     },
     "execution_count": 44,
     "metadata": {},
     "output_type": "execute_result"
    }
   ],
   "source": [
    "pipeline_poli2.fit(X_train, y_train)"
   ]
  },
  {
   "cell_type": "code",
   "execution_count": 45,
   "metadata": {},
   "outputs": [],
   "source": [
    "y_pred_poli2 = pipeline_poli2.predict(X_val)\n",
    "rmse_poli2 = mean_squared_error(y_val, y_pred_poli2, squared = False)\n",
    "mape_poli2 = mean_absolute_percentage_error(y_val, y_pred_poli2)\n",
    "r2_poli2 = r2_score(y_val, y_pred_poli2)"
   ]
  },
  {
   "cell_type": "code",
   "execution_count": 46,
   "metadata": {},
   "outputs": [
    {
     "name": "stdout",
     "output_type": "stream",
     "text": [
      "RMSE:13357.253348690463\n",
      "MAPE:0.9742104551081063\n",
      "R²: -0.11828898313005798\n"
     ]
    }
   ],
   "source": [
    "print(f'RMSE:{rmse_poli2}')\n",
    "print(f'MAPE:{mape_poli2}')\n",
    "print(f'R²: {r2_poli2}')"
   ]
  },
  {
   "cell_type": "markdown",
   "metadata": {},
   "source": [
    "#### Base Polinomial de Grau 3"
   ]
  },
  {
   "cell_type": "code",
   "execution_count": 47,
   "metadata": {},
   "outputs": [],
   "source": [
    "pipeline_poli3 = Pipeline([('preprocessor', preprocessor),\n",
    "                           ('model', SVR(kernel = 'poly', degree = 3))])"
   ]
  },
  {
   "cell_type": "code",
   "execution_count": 48,
   "metadata": {},
   "outputs": [
    {
     "data": {
      "text/plain": [
       "Pipeline(steps=[('preprocessor',\n",
       "                 ColumnTransformer(transformers=[('numerical', StandardScaler(),\n",
       "                                                  ['age', 'bmi']),\n",
       "                                                 ('categorical',\n",
       "                                                  OneHotEncoder(handle_unknown='ignore'),\n",
       "                                                  ['sex', 'smoker',\n",
       "                                                   'region'])])),\n",
       "                ('model', SVR(kernel='poly'))])"
      ]
     },
     "execution_count": 48,
     "metadata": {},
     "output_type": "execute_result"
    }
   ],
   "source": [
    "pipeline_poli3.fit(X_train, y_train)"
   ]
  },
  {
   "cell_type": "code",
   "execution_count": 49,
   "metadata": {},
   "outputs": [],
   "source": [
    "y_pred_poli3 = pipeline_poli3.predict(X_val)\n",
    "rmse_poli3 = mean_squared_error(y_val, y_pred_poli3, squared = False)\n",
    "mape_poli3 = mean_absolute_percentage_error(y_val, y_pred_poli3)\n",
    "r2_poli3 = r2_score(y_val, y_pred_poli3)"
   ]
  },
  {
   "cell_type": "code",
   "execution_count": 50,
   "metadata": {},
   "outputs": [
    {
     "name": "stdout",
     "output_type": "stream",
     "text": [
      "RMSE:13350.732543569982\n",
      "MAPE:0.9729320806280034\n",
      "R²: -0.11719738676951885\n"
     ]
    }
   ],
   "source": [
    "print(f'RMSE:{rmse_poli3}')\n",
    "print(f'MAPE:{mape_poli3}')\n",
    "print(f'R²: {r2_poli3}')"
   ]
  },
  {
   "cell_type": "markdown",
   "metadata": {},
   "source": [
    "#### Base com Função Radial"
   ]
  },
  {
   "cell_type": "code",
   "execution_count": 51,
   "metadata": {},
   "outputs": [],
   "source": [
    "pipeline_rbf = Pipeline([('preprocessor', preprocessor),\n",
    "                         ('model', SVR(kernel = 'rbf'))])"
   ]
  },
  {
   "cell_type": "code",
   "execution_count": 52,
   "metadata": {},
   "outputs": [
    {
     "data": {
      "text/plain": [
       "Pipeline(steps=[('preprocessor',\n",
       "                 ColumnTransformer(transformers=[('numerical', StandardScaler(),\n",
       "                                                  ['age', 'bmi']),\n",
       "                                                 ('categorical',\n",
       "                                                  OneHotEncoder(handle_unknown='ignore'),\n",
       "                                                  ['sex', 'smoker',\n",
       "                                                   'region'])])),\n",
       "                ('model', SVR())])"
      ]
     },
     "execution_count": 52,
     "metadata": {},
     "output_type": "execute_result"
    }
   ],
   "source": [
    "pipeline_rbf.fit(X_train, y_train)"
   ]
  },
  {
   "cell_type": "code",
   "execution_count": 53,
   "metadata": {},
   "outputs": [],
   "source": [
    "y_pred_rbf = pipeline_rbf.predict(X_val)\n",
    "rmse_rbf = mean_squared_error(y_val, y_pred_rbf, squared = False)\n",
    "mape_rbf = mean_absolute_percentage_error(y_val, y_pred_rbf)\n",
    "r2_rbf = r2_score(y_val, y_pred_rbf)"
   ]
  },
  {
   "cell_type": "code",
   "execution_count": 54,
   "metadata": {},
   "outputs": [
    {
     "name": "stdout",
     "output_type": "stream",
     "text": [
      "RMSE:13363.64561323925\n",
      "MAPE:0.9833379281086968\n",
      "R²: -0.11935957890436533\n"
     ]
    }
   ],
   "source": [
    "print(f'RMSE:{rmse_rbf}')\n",
    "print(f'MAPE:{mape_rbf}')\n",
    "print(f'R²: {r2_rbf}')"
   ]
  },
  {
   "cell_type": "markdown",
   "metadata": {},
   "source": [
    "### Regressão Linear sem Features Categóricas e com Dados Padronizados"
   ]
  },
  {
   "cell_type": "markdown",
   "metadata": {},
   "source": [
    "Tendo em vista que as métricas apresentadas pelos modelos implementados não foram tão satisfatórias, iremos fazer uma implementação de uma regressão linear reduzindo o número de *features* ao nos concentrarmos apenas nas variáveis numéricas na forma padronizada:"
   ]
  },
  {
   "cell_type": "code",
   "execution_count": 55,
   "metadata": {},
   "outputs": [],
   "source": [
    "X_train_num = X_train.drop(columns = ['sex','smoker','region'])\n",
    "X_val_num = X_val.drop(columns = ['sex','smoker','region'])"
   ]
  },
  {
   "cell_type": "code",
   "execution_count": 56,
   "metadata": {},
   "outputs": [],
   "source": [
    "pipeline_linear_scaled_num = Pipeline([('scaler', StandardScaler()),\n",
    "                                       ('model', LinearRegression())])"
   ]
  },
  {
   "cell_type": "code",
   "execution_count": 57,
   "metadata": {},
   "outputs": [
    {
     "data": {
      "text/plain": [
       "Pipeline(steps=[('scaler', StandardScaler()), ('model', LinearRegression())])"
      ]
     },
     "execution_count": 57,
     "metadata": {},
     "output_type": "execute_result"
    }
   ],
   "source": [
    "pipeline_linear_scaled_num.fit(X_train_num, y_train)"
   ]
  },
  {
   "cell_type": "code",
   "execution_count": 58,
   "metadata": {},
   "outputs": [],
   "source": [
    "y_pred_linear_scaled_num = pipeline_linear_scaled_num.predict(X_val_num)\n",
    "rmse_linear_scaled_num = mean_squared_error(y_val, y_pred_linear_scaled_num, squared = False)\n",
    "mape_linear_scaled_num = mean_absolute_percentage_error(y_val, y_pred_linear_scaled_num)\n",
    "r2_linear_scaled_num = r2_score(y_val, y_pred_linear_scaled_num)"
   ]
  },
  {
   "cell_type": "code",
   "execution_count": 59,
   "metadata": {},
   "outputs": [
    {
     "name": "stdout",
     "output_type": "stream",
     "text": [
      "RMSE:11679.460881343179\n",
      "MAPE:1.1047081657526143\n",
      "R²: 0.14500157932318924\n"
     ]
    }
   ],
   "source": [
    "print(f'RMSE:{rmse_linear_scaled_num}')\n",
    "print(f'MAPE:{mape_linear_scaled_num}')\n",
    "print(f'R²: {r2_linear_scaled_num}')"
   ]
  },
  {
   "cell_type": "markdown",
   "metadata": {},
   "source": [
    "### Resumo dos Resultados"
   ]
  },
  {
   "cell_type": "markdown",
   "metadata": {},
   "source": [
    "<div style=\"width: 600px;\"></div>\n",
    "<img src = 'https://user-images.githubusercontent.com/92948655/160896802-eafe0631-50b2-48a4-bf65-d366e2178c12.png' width=\"600\">"
   ]
  },
  {
   "cell_type": "markdown",
   "metadata": {},
   "source": [
    "- Dentre todos os modelos implementados, aquele utilizando um algoritmo de **regressão linear combinado com uma padronização das variáveis numéricas** foi o que apresentou as melhores métricas, que por sua vez ficaram extremamente próximas dos resultados apresentados pelo modelo que utilizou o também algoritmo de regressão linear, porém com transformação **Lasso**;\n",
    "\n",
    "\n",
    "\n",
    "- Ainda sim, é importante observar que em termos de negócio, todos os modelos ainda retornam erros que podem ocasionar **prejuízos acima de 6 mil dólares para a companhia ou para o cliente**, fator extremamente grave; \n",
    "\n",
    "\n",
    "\n",
    "- Na amostra utilizada para visualização de métricas e distribuições, **o menor valor de plano pago por um dos clientes é de aproximadamente 1100 dólares e o maior valor pago é de 48 mil dólares**. Avaliando estes cenário, fica ainda mais evidente que um erro médio de 6 mil dólares pode ter impacto significativo no negócio;\n",
    "\n",
    "\n",
    "\n",
    "- **É interessante observar que nenhum modelo pode ser avaliado a partir de uma única métrica** - o modelo de regressão linear com *features* padronizadas apresenta um coeficiente de correlação de 0.72 - algo que de forma isolada não é tão insatisfatório - porém, possui ao mesmo tempo um forte impacto financeiro no negócio em termos de erro médio (RMSE).\n",
    "\n",
    "\n",
    "\n",
    "- A presença de **R² negativo** para alguns dos modelos, apesar de assustar, apenas exemplifica que a variabilidade entre resultados previstos e reais não pode ser explicada."
   ]
  },
  {
   "cell_type": "markdown",
   "metadata": {},
   "source": [
    "### Otimização de Hiperparâmetros"
   ]
  },
  {
   "cell_type": "markdown",
   "metadata": {},
   "source": [
    "Para a otimização de hiperparâmetros, vamos tentar melhorar as métricas do modelo de Random Forest a partir da variação do:\n",
    "- número de estimadores (`n_estimators`); \n",
    "- número mínimo de amostras para que uma nova divisão seja realizada (`min_samples_split`) e \n",
    "- número mínimo de amostras que devem estar contidas em uma folha (`min_samples_leaf`);"
   ]
  },
  {
   "cell_type": "code",
   "execution_count": 60,
   "metadata": {},
   "outputs": [
    {
     "data": {
      "text/plain": [
       "{'model__n_estimators': [1, 3, 5, 10, 20, 30, 40, 50],\n",
       " 'model__min_samples_split': [2, 3, 4, 5, 6, 7, 8, 9, 10],\n",
       " 'model__min_samples_leaf': [1, 2, 3, 4]}"
      ]
     },
     "metadata": {},
     "output_type": "display_data"
    }
   ],
   "source": [
    "# Número de estimadores\n",
    "trees = [int(i) for i in range(10, 60, 10)]\n",
    "trees = [1, 3, 5] + trees\n",
    "\n",
    "# Número de pontos mínimos necessário para permitir um split no nó\n",
    "min_samples_split = [int(i) for i in range(2, 11)]\n",
    "\n",
    "# Número de pontos mínimos que podem existir em cada folha (nó final)\n",
    "min_samples_leaf = [int(i) for i in range(1, 5)]\n",
    "\n",
    "# Grid de escolhas\n",
    "params_grid = {'model__n_estimators': trees,\n",
    "               'model__min_samples_split': min_samples_split,\n",
    "               'model__min_samples_leaf': min_samples_leaf}\n",
    "\n",
    "display(params_grid)"
   ]
  },
  {
   "cell_type": "code",
   "execution_count": 61,
   "metadata": {},
   "outputs": [],
   "source": [
    "# Contruindo um pipeline com o tratamento das colunas categóricas e o modelo de Random Forest\n",
    "\n",
    "pipeline_random_search = Pipeline([('one_hot', OneHotEncoder(sparse = True, handle_unknown = 'ignore')),\n",
    "                                   ('model', RandomForestRegressor())])"
   ]
  },
  {
   "cell_type": "code",
   "execution_count": 62,
   "metadata": {},
   "outputs": [],
   "source": [
    "# Preparando o otimizador\n",
    "\n",
    "random_search = RandomizedSearchCV(estimator = pipeline_random_search, \n",
    "                                   param_distributions = params_grid, \n",
    "                                   scoring= 'neg_root_mean_squared_error',\n",
    "                                   n_iter = 100, \n",
    "                                   cv = 5, \n",
    "                                   verbose = 2,\n",
    "                                   n_jobs = 2,\n",
    "                                   random_state = 42)"
   ]
  },
  {
   "cell_type": "code",
   "execution_count": 63,
   "metadata": {},
   "outputs": [
    {
     "name": "stdout",
     "output_type": "stream",
     "text": [
      "Fitting 5 folds for each of 100 candidates, totalling 500 fits\n"
     ]
    },
    {
     "data": {
      "text/plain": [
       "RandomizedSearchCV(cv=5,\n",
       "                   estimator=Pipeline(steps=[('one_hot',\n",
       "                                              OneHotEncoder(handle_unknown='ignore')),\n",
       "                                             ('model',\n",
       "                                              RandomForestRegressor())]),\n",
       "                   n_iter=100, n_jobs=2,\n",
       "                   param_distributions={'model__min_samples_leaf': [1, 2, 3, 4],\n",
       "                                        'model__min_samples_split': [2, 3, 4, 5,\n",
       "                                                                     6, 7, 8, 9,\n",
       "                                                                     10],\n",
       "                                        'model__n_estimators': [1, 3, 5, 10, 20,\n",
       "                                                                30, 40, 50]},\n",
       "                   random_state=42, scoring='neg_root_mean_squared_error',\n",
       "                   verbose=2)"
      ]
     },
     "execution_count": 63,
     "metadata": {},
     "output_type": "execute_result"
    }
   ],
   "source": [
    "# Ajustando o otimizador com os dados de treino (em cima dos quais, uma validação cruzada será feita)\n",
    "random_search.fit(X_train, y_train)"
   ]
  },
  {
   "cell_type": "code",
   "execution_count": 64,
   "metadata": {},
   "outputs": [
    {
     "data": {
      "text/plain": [
       "{'model__n_estimators': 30,\n",
       " 'model__min_samples_split': 2,\n",
       " 'model__min_samples_leaf': 2}"
      ]
     },
     "execution_count": 64,
     "metadata": {},
     "output_type": "execute_result"
    }
   ],
   "source": [
    "# Visualizando os melhores parâmetros para o modelo obtido\n",
    "random_search.best_params_"
   ]
  },
  {
   "cell_type": "code",
   "execution_count": 65,
   "metadata": {},
   "outputs": [
    {
     "data": {
      "text/plain": [
       "6669.337827098972"
      ]
     },
     "execution_count": 65,
     "metadata": {},
     "output_type": "execute_result"
    }
   ],
   "source": [
    "# Observando a métrica obtida no ajuste\n",
    "np.abs(random_search.best_score_)"
   ]
  },
  {
   "cell_type": "code",
   "execution_count": 66,
   "metadata": {},
   "outputs": [],
   "source": [
    "# Gerando previsões a partir do conjunto de validação\n",
    "y_opt = random_search.predict(X_val)"
   ]
  },
  {
   "cell_type": "code",
   "execution_count": 67,
   "metadata": {},
   "outputs": [
    {
     "name": "stdout",
     "output_type": "stream",
     "text": [
      "RMSE: 7235.402317704144\n",
      "MAPE: 0.3350595263838014\n",
      "R²: 0.6718706418265916\n"
     ]
    }
   ],
   "source": [
    "# Observando as principais métricas\n",
    "print(f'RMSE: {mean_squared_error(y_val, y_opt, squared = False)}')\n",
    "print(f'MAPE: {mean_absolute_percentage_error(y_val, y_opt)}')\n",
    "print(f'R²: {r2_score(y_val, y_opt)}')"
   ]
  },
  {
   "cell_type": "markdown",
   "metadata": {},
   "source": [
    "A otimização de hiperparâmetros para o modelo de floresta aleatória gerou um modelo com métricas levemente melhores, o que leva ao questionamento quanto ao uso da técnica, uma vez que o custo computacional pode ser alto, tendo em vista os resultados obtidos:\n",
    "\n",
    "<div style=\"width: 600px;\"></div>\n",
    "<img src = 'https://user-images.githubusercontent.com/92948655/160900637-b478b25b-2554-43f8-9593-c87e1c654d5f.png' width=\"600\">"
   ]
  },
  {
   "cell_type": "markdown",
   "metadata": {},
   "source": [
    "## Iniciando o Processo de Produção do Modelo"
   ]
  },
  {
   "cell_type": "markdown",
   "metadata": {},
   "source": [
    "Para o início do processo de produção o modelo, um pipeline com base no modelo de regressão linear com dados normalizados será implementado.\n",
    "\n",
    "Um ajuste com os dados que vinham sendo utilizados anteriormente será feito, e o modelo será aplicado nos dados de teste, ainda não vistos, para a geração de novas previsões. "
   ]
  },
  {
   "cell_type": "code",
   "execution_count": 86,
   "metadata": {},
   "outputs": [],
   "source": [
    "# Preprando os pré-processadores\n",
    "\n",
    "numerical_features = ['age','bmi']\n",
    "numerical_transformer = StandardScaler()\n",
    "\n",
    "categorical_features = ['sex','smoker','region']\n",
    "categorical_transformer = OneHotEncoder(sparse = True, handle_unknown = 'ignore')\n",
    "\n",
    "preprocessor = ColumnTransformer(transformers = [('numerical', numerical_transformer, numerical_features),\n",
    "                                                 ('categorical', categorical_transformer, categorical_features)])\n",
    "\n",
    "# Montando o pipeline\n",
    "\n",
    "pipeline_linear_scaled = Pipeline([('preprocessor', preprocessor),\n",
    "                                   ('model', LinearRegression())])"
   ]
  },
  {
   "cell_type": "code",
   "execution_count": 87,
   "metadata": {},
   "outputs": [
    {
     "data": {
      "text/plain": [
       "Pipeline(steps=[('preprocessor',\n",
       "                 ColumnTransformer(transformers=[('numerical', StandardScaler(),\n",
       "                                                  ['age', 'bmi']),\n",
       "                                                 ('categorical',\n",
       "                                                  OneHotEncoder(handle_unknown='ignore'),\n",
       "                                                  ['sex', 'smoker',\n",
       "                                                   'region'])])),\n",
       "                ('model', LinearRegression())])"
      ]
     },
     "execution_count": 87,
     "metadata": {},
     "output_type": "execute_result"
    }
   ],
   "source": [
    "# Ajustando o pipeline nos dados já vistos anteriormente\n",
    "pipeline_linear_scaled.fit(X,y)"
   ]
  },
  {
   "cell_type": "code",
   "execution_count": 88,
   "metadata": {},
   "outputs": [
    {
     "name": "stdout",
     "output_type": "stream",
     "text": [
      "O arquivo foi importado.\n"
     ]
    }
   ],
   "source": [
    "# Importando os dados de teste\n",
    "\n",
    "try:\n",
    "    df = pd.read_csv('insurance_test.csv')\n",
    "    print('O arquivo foi importado.')\n",
    "except FileNotFoundError:\n",
    "    print('O arquivo não foi localizado.')\n",
    "except TypeError:\n",
    "    print('O nome do arquivo não foi informado.')\n",
    "except Exception as e:\n",
    "    print('A importação do arquivo gerou um erro:', e)"
   ]
  },
  {
   "cell_type": "code",
   "execution_count": 89,
   "metadata": {},
   "outputs": [],
   "source": [
    "# Separando os dados de teste entre features e target\n",
    "X_test = df_test.drop(columns = 'charges')\n",
    "y_test = df_test['charges']"
   ]
  },
  {
   "cell_type": "code",
   "execution_count": 90,
   "metadata": {},
   "outputs": [],
   "source": [
    "# Fazendo previsões utilizando os dados de teste\n",
    "y_pred = pipeline_linear_scaled.predict(X_test)"
   ]
  },
  {
   "cell_type": "code",
   "execution_count": 91,
   "metadata": {},
   "outputs": [
    {
     "name": "stdout",
     "output_type": "stream",
     "text": [
      "RMSE: 5843.146823570741\n",
      "MAPE: 0.4845605879160836\n",
      "R²: 0.7800795892260541\n"
     ]
    }
   ],
   "source": [
    "# Métricas da comparação entre os dados previstos e os dados reais do conjunto de teste\n",
    "print(f'RMSE: {mean_squared_error(y_test, y_pred, squared = False)}')\n",
    "print(f'MAPE: {mean_absolute_percentage_error(y_test, y_pred)}')\n",
    "print(f'R²: {r2_score(y_test, y_pred)}')"
   ]
  },
  {
   "cell_type": "markdown",
   "metadata": {},
   "source": [
    "O desempenho do modelo nos dados de teste foi ainda melhor do que aquele apresentado com os dados de treinamento. O RMSE foi de 6639,93 para 5843,15 quando da aplicação do modelo sobre dados ainda não vistos. Este tipo de observação aponta para o fato de que o modelo por si só é bastante robusto e suficiente para este tipo de previsão.\n",
    "\n",
    "A melhora das métricas pode ser feita voltando-se para a etapa de coleta de dados, sugestão explanada na apresentação da análise."
   ]
  }
 ],
 "metadata": {
  "hide_input": false,
  "kernelspec": {
   "display_name": "Python 3",
   "language": "python",
   "name": "python3"
  },
  "language_info": {
   "codemirror_mode": {
    "name": "ipython",
    "version": 3
   },
   "file_extension": ".py",
   "mimetype": "text/x-python",
   "name": "python",
   "nbconvert_exporter": "python",
   "pygments_lexer": "ipython3",
   "version": "3.8.5"
  }
 },
 "nbformat": 4,
 "nbformat_minor": 4
}
